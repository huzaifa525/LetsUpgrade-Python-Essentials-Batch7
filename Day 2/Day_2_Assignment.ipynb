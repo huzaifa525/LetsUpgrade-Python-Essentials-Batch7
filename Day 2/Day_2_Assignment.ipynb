{
  "nbformat": 4,
  "nbformat_minor": 0,
  "metadata": {
    "colab": {
      "name": "Day 2 Assignment.ipynb",
      "provenance": [],
      "collapsed_sections": []
    },
    "kernelspec": {
      "name": "python3",
      "display_name": "Python 3"
    }
  },
  "cells": [
    {
      "cell_type": "markdown",
      "metadata": {
        "id": "wOHRVkmNVkdu",
        "colab_type": "text"
      },
      "source": [
        "#Day 2 Assignment Batch 7\n",
        "\n",
        "\n",
        "---\n",
        "\n",
        "\n",
        "\n",
        "\n",
        "\n"
      ]
    },
    {
      "cell_type": "code",
      "metadata": {
        "id": "OhhRFgjIVua4",
        "colab_type": "code",
        "colab": {
          "base_uri": "https://localhost:8080/",
          "height": 50
        },
        "outputId": "72bbdbab-c91f-46ba-8623-140c5f717528"
      },
      "source": [
        "print(\"Assignment Submitted by Huzefa Nalkheda wala\")\n",
        "print(\"huzaifanalkheda@gmail.com\")"
      ],
      "execution_count": 115,
      "outputs": [
        {
          "output_type": "stream",
          "text": [
            "Assignment Submitted by Huzefa Nalkheda wala\n",
            "huzaifanalkheda@gmail.com\n"
          ],
          "name": "stdout"
        }
      ]
    },
    {
      "cell_type": "markdown",
      "metadata": {
        "id": "Jbs8kZx6KnLi",
        "colab_type": "text"
      },
      "source": [
        "##Q 1. List"
      ]
    },
    {
      "cell_type": "code",
      "metadata": {
        "id": "Ehc6XH8FKkYz",
        "colab_type": "code",
        "colab": {
          "base_uri": "https://localhost:8080/",
          "height": 34
        },
        "outputId": "c7786521-b276-4f84-e4ec-a347745fe9ef"
      },
      "source": [
        "lst = [\"Huzefa\",90,70.69,[1,6,10,7]]\n",
        "lst"
      ],
      "execution_count": 11,
      "outputs": [
        {
          "output_type": "execute_result",
          "data": {
            "text/plain": [
              "['Huzefa', 90, 70.69, [1, 6, 10, 7]]"
            ]
          },
          "metadata": {
            "tags": []
          },
          "execution_count": 11
        }
      ]
    },
    {
      "cell_type": "code",
      "metadata": {
        "id": "Wpj1SI1uK69K",
        "colab_type": "code",
        "colab": {
          "base_uri": "https://localhost:8080/",
          "height": 34
        },
        "outputId": "f044e775-e8a4-4ab4-e2e5-7d2e037e9987"
      },
      "source": [
        "lst[3]"
      ],
      "execution_count": 5,
      "outputs": [
        {
          "output_type": "execute_result",
          "data": {
            "text/plain": [
              "[1, 6, 10, 7]"
            ]
          },
          "metadata": {
            "tags": []
          },
          "execution_count": 5
        }
      ]
    },
    {
      "cell_type": "code",
      "metadata": {
        "id": "YpkVuE3-LOLp",
        "colab_type": "code",
        "colab": {
          "base_uri": "https://localhost:8080/",
          "height": 34
        },
        "outputId": "fde94d21-7dcb-4b4e-c1a2-bffac4bac321"
      },
      "source": [
        "lst[2:4]"
      ],
      "execution_count": 6,
      "outputs": [
        {
          "output_type": "execute_result",
          "data": {
            "text/plain": [
              "[70.69, [1, 6, 10, 7]]"
            ]
          },
          "metadata": {
            "tags": []
          },
          "execution_count": 6
        }
      ]
    },
    {
      "cell_type": "code",
      "metadata": {
        "id": "MmD7dFINLRNG",
        "colab_type": "code",
        "colab": {
          "base_uri": "https://localhost:8080/",
          "height": 34
        },
        "outputId": "4245a5b6-9b35-4aac-dbe6-0a3732e457dc"
      },
      "source": [
        "lst[3][3]"
      ],
      "execution_count": 8,
      "outputs": [
        {
          "output_type": "execute_result",
          "data": {
            "text/plain": [
              "7"
            ]
          },
          "metadata": {
            "tags": []
          },
          "execution_count": 8
        }
      ]
    },
    {
      "cell_type": "code",
      "metadata": {
        "id": "e2bQC4D8LYE6",
        "colab_type": "code",
        "colab": {
          "base_uri": "https://localhost:8080/",
          "height": 34
        },
        "outputId": "ccfb9bf8-7f92-42b3-9104-5ab50e27a0e6"
      },
      "source": [
        "lst.append(\"Saify\")\n",
        "lst"
      ],
      "execution_count": 12,
      "outputs": [
        {
          "output_type": "execute_result",
          "data": {
            "text/plain": [
              "['Huzefa', 90, 70.69, [1, 6, 10, 7], 'Saify']"
            ]
          },
          "metadata": {
            "tags": []
          },
          "execution_count": 12
        }
      ]
    },
    {
      "cell_type": "code",
      "metadata": {
        "id": "iwEnriB3Lojh",
        "colab_type": "code",
        "colab": {
          "base_uri": "https://localhost:8080/",
          "height": 34
        },
        "outputId": "a111b7b4-124e-4156-c63a-5b8544d598bd"
      },
      "source": [
        "lst.insert(3,\"Devs\")\n",
        "lst"
      ],
      "execution_count": 13,
      "outputs": [
        {
          "output_type": "execute_result",
          "data": {
            "text/plain": [
              "['Huzefa', 90, 70.69, 'Devs', [1, 6, 10, 7], 'Saify']"
            ]
          },
          "metadata": {
            "tags": []
          },
          "execution_count": 13
        }
      ]
    },
    {
      "cell_type": "code",
      "metadata": {
        "id": "4cHI_mFQLx2j",
        "colab_type": "code",
        "colab": {
          "base_uri": "https://localhost:8080/",
          "height": 34
        },
        "outputId": "b17e385e-fd7e-453c-b307-b18e6b86d3e1"
      },
      "source": [
        "lst.remove(\"Saify\")\n",
        "lst"
      ],
      "execution_count": 14,
      "outputs": [
        {
          "output_type": "execute_result",
          "data": {
            "text/plain": [
              "['Huzefa', 90, 70.69, 'Devs', [1, 6, 10, 7]]"
            ]
          },
          "metadata": {
            "tags": []
          },
          "execution_count": 14
        }
      ]
    },
    {
      "cell_type": "code",
      "metadata": {
        "id": "O38Pyb-cL3L7",
        "colab_type": "code",
        "colab": {
          "base_uri": "https://localhost:8080/",
          "height": 34
        },
        "outputId": "e5d294bc-18bd-404c-9e6b-8b8b778827a9"
      },
      "source": [
        "lst.reverse()\n",
        "lst"
      ],
      "execution_count": 15,
      "outputs": [
        {
          "output_type": "execute_result",
          "data": {
            "text/plain": [
              "[[1, 6, 10, 7], 'Devs', 70.69, 90, 'Huzefa']"
            ]
          },
          "metadata": {
            "tags": []
          },
          "execution_count": 15
        }
      ]
    },
    {
      "cell_type": "code",
      "metadata": {
        "id": "sRFB2OyGL5Wc",
        "colab_type": "code",
        "colab": {
          "base_uri": "https://localhost:8080/",
          "height": 34
        },
        "outputId": "b7e9a459-78eb-4a64-c14c-783f4b4a43b2"
      },
      "source": [
        "lst.clear()\n",
        "lst"
      ],
      "execution_count": 21,
      "outputs": [
        {
          "output_type": "execute_result",
          "data": {
            "text/plain": [
              "[]"
            ]
          },
          "metadata": {
            "tags": []
          },
          "execution_count": 21
        }
      ]
    },
    {
      "cell_type": "code",
      "metadata": {
        "id": "X2SquxxSL_Qv",
        "colab_type": "code",
        "colab": {
          "base_uri": "https://localhost:8080/",
          "height": 34
        },
        "outputId": "09b76841-6ee7-48e3-97d8-fabdd7980b80"
      },
      "source": [
        "lst.copy()\n",
        "lst"
      ],
      "execution_count": 17,
      "outputs": [
        {
          "output_type": "execute_result",
          "data": {
            "text/plain": [
              "[]"
            ]
          },
          "metadata": {
            "tags": []
          },
          "execution_count": 17
        }
      ]
    },
    {
      "cell_type": "code",
      "metadata": {
        "id": "LAL8cBaPMC7N",
        "colab_type": "code",
        "colab": {
          "base_uri": "https://localhost:8080/",
          "height": 34
        },
        "outputId": "060a65af-ec72-49b0-f05b-a460c8964913"
      },
      "source": [
        "lst.append(\"Letsupgrade Python Essentials Batch 7 Day 2\")\n",
        "lst"
      ],
      "execution_count": 22,
      "outputs": [
        {
          "output_type": "execute_result",
          "data": {
            "text/plain": [
              "['Letsupgrade Python Essentials Batch 7 Day 2']"
            ]
          },
          "metadata": {
            "tags": []
          },
          "execution_count": 22
        }
      ]
    },
    {
      "cell_type": "code",
      "metadata": {
        "id": "eUuMtexKMLu7",
        "colab_type": "code",
        "colab": {
          "base_uri": "https://localhost:8080/",
          "height": 34
        },
        "outputId": "8ecae045-15a3-4bac-cf7a-f8dcbee5d393"
      },
      "source": [
        "lst.count(\"Letsupgrade Python Essentials Batch 7 Day 2\")"
      ],
      "execution_count": 24,
      "outputs": [
        {
          "output_type": "execute_result",
          "data": {
            "text/plain": [
              "1"
            ]
          },
          "metadata": {
            "tags": []
          },
          "execution_count": 24
        }
      ]
    },
    {
      "cell_type": "code",
      "metadata": {
        "id": "OdMlSY4UMLrX",
        "colab_type": "code",
        "colab": {
          "base_uri": "https://localhost:8080/",
          "height": 50
        },
        "outputId": "cfca7f58-eda6-4b72-f729-55ee25ca879e"
      },
      "source": [
        "lst.append(\"Submitted by Huzefa Nalkheda wala , huzaifanalkheda@gmail.com\")\n",
        "lst"
      ],
      "execution_count": 25,
      "outputs": [
        {
          "output_type": "execute_result",
          "data": {
            "text/plain": [
              "['Letsupgrade Python Essentials Batch 7 Day 2',\n",
              " 'Submitted by Huzefa Nalkheda wala , huzaifanalkheda@gmail.com']"
            ]
          },
          "metadata": {
            "tags": []
          },
          "execution_count": 25
        }
      ]
    },
    {
      "cell_type": "markdown",
      "metadata": {
        "id": "mxOhDdx3MnW7",
        "colab_type": "text"
      },
      "source": [
        "##Q 2. Dictionaries "
      ]
    },
    {
      "cell_type": "code",
      "metadata": {
        "id": "pkiG4C-cNfSF",
        "colab_type": "code",
        "colab": {}
      },
      "source": [
        "dit.clear()"
      ],
      "execution_count": 34,
      "outputs": []
    },
    {
      "cell_type": "code",
      "metadata": {
        "id": "ytvK45MBMw16",
        "colab_type": "code",
        "colab": {
          "base_uri": "https://localhost:8080/",
          "height": 34
        },
        "outputId": "17e64a32-4871-48c3-c7b5-2fba9df59b26"
      },
      "source": [
        "dit = {\"Fruits\":\"Mango\",\"Vegetables\":\"Brocli\",\"Kilogram\":\"8\"}\n",
        "dit"
      ],
      "execution_count": 36,
      "outputs": [
        {
          "output_type": "execute_result",
          "data": {
            "text/plain": [
              "{'Fruits': 'Mango', 'Kilogram': '8', 'Vegetables': 'Brocli'}"
            ]
          },
          "metadata": {
            "tags": []
          },
          "execution_count": 36
        }
      ]
    },
    {
      "cell_type": "code",
      "metadata": {
        "id": "JydIFAwfNCPV",
        "colab_type": "code",
        "colab": {
          "base_uri": "https://localhost:8080/",
          "height": 35
        },
        "outputId": "0d47e053-84b3-4273-a5b2-ac93f0684d0c"
      },
      "source": [
        "dit.get(\"Fruits\")"
      ],
      "execution_count": 37,
      "outputs": [
        {
          "output_type": "execute_result",
          "data": {
            "application/vnd.google.colaboratory.intrinsic+json": {
              "type": "string"
            },
            "text/plain": [
              "'Mango'"
            ]
          },
          "metadata": {
            "tags": []
          },
          "execution_count": 37
        }
      ]
    },
    {
      "cell_type": "code",
      "metadata": {
        "id": "-Yjq3ByCNGsE",
        "colab_type": "code",
        "colab": {
          "base_uri": "https://localhost:8080/",
          "height": 34
        },
        "outputId": "2e693368-eee0-481b-a812-2b7cfcbd42d4"
      },
      "source": [
        "dit.values()"
      ],
      "execution_count": 38,
      "outputs": [
        {
          "output_type": "execute_result",
          "data": {
            "text/plain": [
              "dict_values(['Mango', 'Brocli', '8'])"
            ]
          },
          "metadata": {
            "tags": []
          },
          "execution_count": 38
        }
      ]
    },
    {
      "cell_type": "code",
      "metadata": {
        "id": "cxGVl2YNNLJi",
        "colab_type": "code",
        "colab": {
          "base_uri": "https://localhost:8080/",
          "height": 34
        },
        "outputId": "380ac18d-905a-420d-a740-75e4776ffc67"
      },
      "source": [
        "dit.popitem()"
      ],
      "execution_count": 39,
      "outputs": [
        {
          "output_type": "execute_result",
          "data": {
            "text/plain": [
              "('Kilogram', '8')"
            ]
          },
          "metadata": {
            "tags": []
          },
          "execution_count": 39
        }
      ]
    },
    {
      "cell_type": "code",
      "metadata": {
        "id": "JkGckD8iNRCe",
        "colab_type": "code",
        "colab": {
          "base_uri": "https://localhost:8080/",
          "height": 34
        },
        "outputId": "2bd16f26-9bd1-48f5-e674-7823329a2875"
      },
      "source": [
        "dit.update({\"₹\":\"100\"})\n",
        "dit"
      ],
      "execution_count": 40,
      "outputs": [
        {
          "output_type": "execute_result",
          "data": {
            "text/plain": [
              "{'Fruits': 'Mango', 'Vegetables': 'Brocli', '₹': '100'}"
            ]
          },
          "metadata": {
            "tags": []
          },
          "execution_count": 40
        }
      ]
    },
    {
      "cell_type": "code",
      "metadata": {
        "id": "c617RhyBNtGA",
        "colab_type": "code",
        "colab": {
          "base_uri": "https://localhost:8080/",
          "height": 35
        },
        "outputId": "8a2a2881-0e12-4c07-b2ea-34f1d06bfe1d"
      },
      "source": [
        "dit.pop(\"₹\")"
      ],
      "execution_count": 41,
      "outputs": [
        {
          "output_type": "execute_result",
          "data": {
            "application/vnd.google.colaboratory.intrinsic+json": {
              "type": "string"
            },
            "text/plain": [
              "'100'"
            ]
          },
          "metadata": {
            "tags": []
          },
          "execution_count": 41
        }
      ]
    },
    {
      "cell_type": "code",
      "metadata": {
        "id": "u8dTQwZsN4pa",
        "colab_type": "code",
        "colab": {
          "base_uri": "https://localhost:8080/",
          "height": 34
        },
        "outputId": "f9291965-cbf6-46b2-c7e4-6247a3c57f3a"
      },
      "source": [
        "dit"
      ],
      "execution_count": 42,
      "outputs": [
        {
          "output_type": "execute_result",
          "data": {
            "text/plain": [
              "{'Fruits': 'Mango', 'Vegetables': 'Brocli'}"
            ]
          },
          "metadata": {
            "tags": []
          },
          "execution_count": 42
        }
      ]
    },
    {
      "cell_type": "code",
      "metadata": {
        "id": "zuGcNsYJN8fh",
        "colab_type": "code",
        "colab": {
          "base_uri": "https://localhost:8080/",
          "height": 34
        },
        "outputId": "15b5777d-9dcc-4df4-b636-da9e65989958"
      },
      "source": [
        "dit.clear()\n",
        "dit"
      ],
      "execution_count": 46,
      "outputs": [
        {
          "output_type": "execute_result",
          "data": {
            "text/plain": [
              "{}"
            ]
          },
          "metadata": {
            "tags": []
          },
          "execution_count": 46
        }
      ]
    },
    {
      "cell_type": "code",
      "metadata": {
        "id": "ufBpRco0OE2W",
        "colab_type": "code",
        "colab": {
          "base_uri": "https://localhost:8080/",
          "height": 50
        },
        "outputId": "c59a1422-8b79-4c33-f435-6005111361d3"
      },
      "source": [
        "dit.update({\"Submitted by\":\"Huzefa Nalkheda wala\",\"Submitted to\": \"Letsupgrade Python Essentials Batch 7 Day 2\"})\n",
        "dit"
      ],
      "execution_count": 48,
      "outputs": [
        {
          "output_type": "execute_result",
          "data": {
            "text/plain": [
              "{'Submitted by': 'Huzefa Nalkheda wala',\n",
              " 'Submitted to': 'Letsupgrade Python Essentials Batch 7 Day 2'}"
            ]
          },
          "metadata": {
            "tags": []
          },
          "execution_count": 48
        }
      ]
    },
    {
      "cell_type": "markdown",
      "metadata": {
        "id": "k7YCq5b8OhiH",
        "colab_type": "text"
      },
      "source": [
        "##Q 3. Sets"
      ]
    },
    {
      "cell_type": "code",
      "metadata": {
        "id": "h4jzpprVQwqV",
        "colab_type": "code",
        "colab": {}
      },
      "source": [
        "set.clear()"
      ],
      "execution_count": 70,
      "outputs": []
    },
    {
      "cell_type": "code",
      "metadata": {
        "id": "vCFWC4DwOqmm",
        "colab_type": "code",
        "colab": {
          "base_uri": "https://localhost:8080/",
          "height": 34
        },
        "outputId": "4572cd06-bf98-436f-fcf2-48b64ab9bcfd"
      },
      "source": [
        "set = {\"Huzefa\",40,\"Saify Dev\",6,1,30}\n",
        "set"
      ],
      "execution_count": 71,
      "outputs": [
        {
          "output_type": "execute_result",
          "data": {
            "text/plain": [
              "{1, 30, 40, 6, 'Huzefa', 'Saify Dev'}"
            ]
          },
          "metadata": {
            "tags": []
          },
          "execution_count": 71
        }
      ]
    },
    {
      "cell_type": "code",
      "metadata": {
        "id": "1OYMdrrXPttg",
        "colab_type": "code",
        "colab": {
          "base_uri": "https://localhost:8080/",
          "height": 34
        },
        "outputId": "d0dd94e3-7803-41da-bb2d-ed7e8046b168"
      },
      "source": [
        "set.add(\"Nalkheda wala\")\n",
        "set"
      ],
      "execution_count": 72,
      "outputs": [
        {
          "output_type": "execute_result",
          "data": {
            "text/plain": [
              "{1, 30, 40, 6, 'Huzefa', 'Nalkheda wala', 'Saify Dev'}"
            ]
          },
          "metadata": {
            "tags": []
          },
          "execution_count": 72
        }
      ]
    },
    {
      "cell_type": "code",
      "metadata": {
        "id": "CQBrhfbpP5vb",
        "colab_type": "code",
        "colab": {
          "base_uri": "https://localhost:8080/",
          "height": 34
        },
        "outputId": "a5562bb7-f2e7-4ce9-b220-98efcd703bc8"
      },
      "source": [
        "set1 = {5,9,8,7}\n",
        "set1"
      ],
      "execution_count": 83,
      "outputs": [
        {
          "output_type": "execute_result",
          "data": {
            "text/plain": [
              "{5, 7, 8, 9}"
            ]
          },
          "metadata": {
            "tags": []
          },
          "execution_count": 83
        }
      ]
    },
    {
      "cell_type": "code",
      "metadata": {
        "id": "EMiXyc5-QFMe",
        "colab_type": "code",
        "colab": {
          "base_uri": "https://localhost:8080/",
          "height": 34
        },
        "outputId": "e3479a43-e7f0-470d-c503-972ec6377515"
      },
      "source": [
        "set.difference(set1)"
      ],
      "execution_count": 74,
      "outputs": [
        {
          "output_type": "execute_result",
          "data": {
            "text/plain": [
              "{1, 30, 40, 6, 'Huzefa', 'Nalkheda wala', 'Saify Dev'}"
            ]
          },
          "metadata": {
            "tags": []
          },
          "execution_count": 74
        }
      ]
    },
    {
      "cell_type": "code",
      "metadata": {
        "id": "iz6pMfJkQVQe",
        "colab_type": "code",
        "colab": {}
      },
      "source": [
        "set.discard(\"Saify Dev\")"
      ],
      "execution_count": 75,
      "outputs": []
    },
    {
      "cell_type": "code",
      "metadata": {
        "id": "gw15IEaZQP9o",
        "colab_type": "code",
        "colab": {
          "base_uri": "https://localhost:8080/",
          "height": 34
        },
        "outputId": "3f8fb0a0-b629-4c13-baa1-496fe1318950"
      },
      "source": [
        "set"
      ],
      "execution_count": 76,
      "outputs": [
        {
          "output_type": "execute_result",
          "data": {
            "text/plain": [
              "{1, 30, 40, 6, 'Huzefa', 'Nalkheda wala'}"
            ]
          },
          "metadata": {
            "tags": []
          },
          "execution_count": 76
        }
      ]
    },
    {
      "cell_type": "code",
      "metadata": {
        "id": "0ZdIiG3lRQH8",
        "colab_type": "code",
        "colab": {
          "base_uri": "https://localhost:8080/",
          "height": 34
        },
        "outputId": "7e7a659c-6111-4578-fce0-eed6832dab9d"
      },
      "source": [
        "set.union(set1)"
      ],
      "execution_count": 77,
      "outputs": [
        {
          "output_type": "execute_result",
          "data": {
            "text/plain": [
              "{1, 30, 40, 5, 6, 7, 8, 9, 'Huzefa', 'Nalkheda wala'}"
            ]
          },
          "metadata": {
            "tags": []
          },
          "execution_count": 77
        }
      ]
    },
    {
      "cell_type": "code",
      "metadata": {
        "id": "RimUzQewRUgy",
        "colab_type": "code",
        "colab": {
          "base_uri": "https://localhost:8080/",
          "height": 34
        },
        "outputId": "2e340688-2bf4-47db-8be2-ee5d6a515ec3"
      },
      "source": [
        "set"
      ],
      "execution_count": 78,
      "outputs": [
        {
          "output_type": "execute_result",
          "data": {
            "text/plain": [
              "{1, 30, 40, 6, 'Huzefa', 'Nalkheda wala'}"
            ]
          },
          "metadata": {
            "tags": []
          },
          "execution_count": 78
        }
      ]
    },
    {
      "cell_type": "code",
      "metadata": {
        "id": "Q14kuoh5RX0o",
        "colab_type": "code",
        "colab": {
          "base_uri": "https://localhost:8080/",
          "height": 34
        },
        "outputId": "3a4876c8-063a-4e5e-f2f1-972f885340af"
      },
      "source": [
        "set1"
      ],
      "execution_count": 84,
      "outputs": [
        {
          "output_type": "execute_result",
          "data": {
            "text/plain": [
              "{5, 7, 8, 9}"
            ]
          },
          "metadata": {
            "tags": []
          },
          "execution_count": 84
        }
      ]
    },
    {
      "cell_type": "code",
      "metadata": {
        "id": "v-LZpz_aRu5J",
        "colab_type": "code",
        "colab": {
          "base_uri": "https://localhost:8080/",
          "height": 34
        },
        "outputId": "942acc26-deef-4c54-da43-c0800b750839"
      },
      "source": [
        "set1.remove(8)\n",
        "set1"
      ],
      "execution_count": 85,
      "outputs": [
        {
          "output_type": "execute_result",
          "data": {
            "text/plain": [
              "{5, 7, 9}"
            ]
          },
          "metadata": {
            "tags": []
          },
          "execution_count": 85
        }
      ]
    },
    {
      "cell_type": "code",
      "metadata": {
        "id": "ffw_BIQcR8-K",
        "colab_type": "code",
        "colab": {
          "base_uri": "https://localhost:8080/",
          "height": 34
        },
        "outputId": "60986f4a-b489-456f-daac-834d45b9c3dd"
      },
      "source": [
        "set1.symmetric_difference(set)"
      ],
      "execution_count": 86,
      "outputs": [
        {
          "output_type": "execute_result",
          "data": {
            "text/plain": [
              "{1, 30, 40, 5, 6, 7, 9, 'Huzefa', 'Nalkheda wala'}"
            ]
          },
          "metadata": {
            "tags": []
          },
          "execution_count": 86
        }
      ]
    },
    {
      "cell_type": "code",
      "metadata": {
        "id": "kTuiaE9DSF-l",
        "colab_type": "code",
        "colab": {
          "base_uri": "https://localhost:8080/",
          "height": 50
        },
        "outputId": "366197f8-2664-496a-8578-2df60c1f7384"
      },
      "source": [
        "set2 = {\"Submitted by: Huzefa Nalkheda wala\",\"Submitted to: Letsupgrade Python Essentials Batch 7 Day 2\"}\n",
        "set2"
      ],
      "execution_count": 90,
      "outputs": [
        {
          "output_type": "execute_result",
          "data": {
            "text/plain": [
              "{'Submitted by: Huzefa Nalkheda wala',\n",
              " 'Submitted to: Letsupgrade Python Essentials Batch 7 Day 2'}"
            ]
          },
          "metadata": {
            "tags": []
          },
          "execution_count": 90
        }
      ]
    },
    {
      "cell_type": "markdown",
      "metadata": {
        "id": "STRj8AiKSiau",
        "colab_type": "text"
      },
      "source": [
        "##Q 4. Tuple"
      ]
    },
    {
      "cell_type": "code",
      "metadata": {
        "id": "nmeZrJPHStsW",
        "colab_type": "code",
        "colab": {
          "base_uri": "https://localhost:8080/",
          "height": 34
        },
        "outputId": "17697e8a-8137-4cc5-dd91-fefa0c1512d2"
      },
      "source": [
        "tuple = (\"Huzefa\",\"Nalkheda\",\"Wala\",\"19\")\n",
        "tuple"
      ],
      "execution_count": 91,
      "outputs": [
        {
          "output_type": "execute_result",
          "data": {
            "text/plain": [
              "('Huzefa', 'Nalkheda', 'Wala', '19')"
            ]
          },
          "metadata": {
            "tags": []
          },
          "execution_count": 91
        }
      ]
    },
    {
      "cell_type": "code",
      "metadata": {
        "id": "8i6A_bQaS_zk",
        "colab_type": "code",
        "colab": {
          "base_uri": "https://localhost:8080/",
          "height": 34
        },
        "outputId": "c619e233-baf4-40dc-e2a0-0863a371b8a7"
      },
      "source": [
        "tuple.count(\"Huzefa\")"
      ],
      "execution_count": 92,
      "outputs": [
        {
          "output_type": "execute_result",
          "data": {
            "text/plain": [
              "1"
            ]
          },
          "metadata": {
            "tags": []
          },
          "execution_count": 92
        }
      ]
    },
    {
      "cell_type": "code",
      "metadata": {
        "id": "ibXCS9FATGoS",
        "colab_type": "code",
        "colab": {
          "base_uri": "https://localhost:8080/",
          "height": 34
        },
        "outputId": "cb88f4b8-37c3-4209-f798-7341835ad81c"
      },
      "source": [
        "tuple.index(\"Wala\")"
      ],
      "execution_count": 94,
      "outputs": [
        {
          "output_type": "execute_result",
          "data": {
            "text/plain": [
              "2"
            ]
          },
          "metadata": {
            "tags": []
          },
          "execution_count": 94
        }
      ]
    },
    {
      "cell_type": "code",
      "metadata": {
        "id": "pRlTSydxTc8b",
        "colab_type": "code",
        "colab": {
          "base_uri": "https://localhost:8080/",
          "height": 50
        },
        "outputId": "1b7be4bb-6a9e-42b9-c7d2-fd8c79655ed9"
      },
      "source": [
        "tuple1 = (\"Submitted by: Huzefa Nalkheda wala\",\"Submitted to: Letsupgrade Python Essentials Batch 7 Day 2\")\n",
        "tuple1"
      ],
      "execution_count": 95,
      "outputs": [
        {
          "output_type": "execute_result",
          "data": {
            "text/plain": [
              "('Submitted by: Huzefa Nalkheda wala',\n",
              " 'Submitted to: Letsupgrade Python Essentials Batch 7 Day 2')"
            ]
          },
          "metadata": {
            "tags": []
          },
          "execution_count": 95
        }
      ]
    },
    {
      "cell_type": "markdown",
      "metadata": {
        "id": "VV3LLs1kTl5t",
        "colab_type": "text"
      },
      "source": [
        "##Q 5. String"
      ]
    },
    {
      "cell_type": "code",
      "metadata": {
        "id": "sw7Wv9wUTsXo",
        "colab_type": "code",
        "colab": {
          "base_uri": "https://localhost:8080/",
          "height": 35
        },
        "outputId": "f1ae05f2-faf1-4166-9488-6745dff4c7a4"
      },
      "source": [
        "Name = \"Huzefa\"\n",
        "Surname = \"Nalkheda wala\"\n",
        "Name+\" \"+Surname"
      ],
      "execution_count": 96,
      "outputs": [
        {
          "output_type": "execute_result",
          "data": {
            "application/vnd.google.colaboratory.intrinsic+json": {
              "type": "string"
            },
            "text/plain": [
              "'Huzefa Nalkheda wala'"
            ]
          },
          "metadata": {
            "tags": []
          },
          "execution_count": 96
        }
      ]
    },
    {
      "cell_type": "code",
      "metadata": {
        "id": "vxsdJjhnT6mt",
        "colab_type": "code",
        "colab": {}
      },
      "source": [
        "string = \"kite\""
      ],
      "execution_count": 100,
      "outputs": []
    },
    {
      "cell_type": "code",
      "metadata": {
        "id": "PMUOVnSZUA0r",
        "colab_type": "code",
        "colab": {
          "base_uri": "https://localhost:8080/",
          "height": 35
        },
        "outputId": "8a96c7a8-b097-4141-d6ce-4101e72daa9a"
      },
      "source": [
        "string.capitalize()"
      ],
      "execution_count": 101,
      "outputs": [
        {
          "output_type": "execute_result",
          "data": {
            "application/vnd.google.colaboratory.intrinsic+json": {
              "type": "string"
            },
            "text/plain": [
              "'Kite'"
            ]
          },
          "metadata": {
            "tags": []
          },
          "execution_count": 101
        }
      ]
    },
    {
      "cell_type": "code",
      "metadata": {
        "id": "BaeWklvJUCfZ",
        "colab_type": "code",
        "colab": {
          "base_uri": "https://localhost:8080/",
          "height": 35
        },
        "outputId": "c5fbfe06-e467-40e3-93b4-5b767ec57172"
      },
      "source": [
        "string.casefold()"
      ],
      "execution_count": 102,
      "outputs": [
        {
          "output_type": "execute_result",
          "data": {
            "application/vnd.google.colaboratory.intrinsic+json": {
              "type": "string"
            },
            "text/plain": [
              "'kite'"
            ]
          },
          "metadata": {
            "tags": []
          },
          "execution_count": 102
        }
      ]
    },
    {
      "cell_type": "code",
      "metadata": {
        "id": "tHCacVUOUFPc",
        "colab_type": "code",
        "colab": {}
      },
      "source": [
        "string1 = \"Fly Kite\""
      ],
      "execution_count": 104,
      "outputs": []
    },
    {
      "cell_type": "code",
      "metadata": {
        "id": "kYOVUjQEUSfQ",
        "colab_type": "code",
        "colab": {
          "base_uri": "https://localhost:8080/",
          "height": 34
        },
        "outputId": "523d3592-4c81-4690-9a46-802e127cf33b"
      },
      "source": [
        "string.count(string1)"
      ],
      "execution_count": 105,
      "outputs": [
        {
          "output_type": "execute_result",
          "data": {
            "text/plain": [
              "0"
            ]
          },
          "metadata": {
            "tags": []
          },
          "execution_count": 105
        }
      ]
    },
    {
      "cell_type": "code",
      "metadata": {
        "id": "VcAvO2KUUX-F",
        "colab_type": "code",
        "colab": {
          "base_uri": "https://localhost:8080/",
          "height": 34
        },
        "outputId": "e5908b33-b87c-46c5-b2a8-180e0a5505de"
      },
      "source": [
        "string.islower()"
      ],
      "execution_count": 106,
      "outputs": [
        {
          "output_type": "execute_result",
          "data": {
            "text/plain": [
              "True"
            ]
          },
          "metadata": {
            "tags": []
          },
          "execution_count": 106
        }
      ]
    },
    {
      "cell_type": "code",
      "metadata": {
        "id": "OfTqerBPUe0h",
        "colab_type": "code",
        "colab": {}
      },
      "source": [
        "string2 = \"920\""
      ],
      "execution_count": 108,
      "outputs": []
    },
    {
      "cell_type": "code",
      "metadata": {
        "id": "lFbP-AQ4UiHa",
        "colab_type": "code",
        "colab": {
          "base_uri": "https://localhost:8080/",
          "height": 34
        },
        "outputId": "50674a33-a1de-4171-bc01-7da13db7645e"
      },
      "source": [
        "string2.isdigit()"
      ],
      "execution_count": 109,
      "outputs": [
        {
          "output_type": "execute_result",
          "data": {
            "text/plain": [
              "True"
            ]
          },
          "metadata": {
            "tags": []
          },
          "execution_count": 109
        }
      ]
    },
    {
      "cell_type": "code",
      "metadata": {
        "id": "YGBULuSwU9hc",
        "colab_type": "code",
        "colab": {
          "base_uri": "https://localhost:8080/",
          "height": 34
        },
        "outputId": "94baec9a-deef-4c9f-c738-9d0ed8b175b3"
      },
      "source": [
        "string.rindex(string)"
      ],
      "execution_count": 110,
      "outputs": [
        {
          "output_type": "execute_result",
          "data": {
            "text/plain": [
              "0"
            ]
          },
          "metadata": {
            "tags": []
          },
          "execution_count": 110
        }
      ]
    },
    {
      "cell_type": "code",
      "metadata": {
        "id": "llRPd1JyVDbp",
        "colab_type": "code",
        "colab": {
          "base_uri": "https://localhost:8080/",
          "height": 35
        },
        "outputId": "3b111169-584f-4abc-9b82-277924ad0eaf"
      },
      "source": [
        "a = \"Submitted by: Huzefa Nalkheda wala\"\n",
        "b = \"Submitted to: Letsupgrade Python Essentials Batch 7 Day 2\"\n",
        "a+\"  \"+b"
      ],
      "execution_count": 114,
      "outputs": [
        {
          "output_type": "execute_result",
          "data": {
            "application/vnd.google.colaboratory.intrinsic+json": {
              "type": "string"
            },
            "text/plain": [
              "'Submitted by: Huzefa Nalkheda wala  Submitted to: Letsupgrade Python Essentials Batch 7 Day 2'"
            ]
          },
          "metadata": {
            "tags": []
          },
          "execution_count": 114
        }
      ]
    }
  ]
}

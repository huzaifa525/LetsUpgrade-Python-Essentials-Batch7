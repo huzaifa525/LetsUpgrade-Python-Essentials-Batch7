{
  "nbformat": 4,
  "nbformat_minor": 0,
  "metadata": {
    "colab": {
      "name": "Day_3_Assignment.ipynb",
      "provenance": [],
      "collapsed_sections": []
    },
    "kernelspec": {
      "name": "python3",
      "display_name": "Python 3"
    }
  },
  "cells": [
    {
      "cell_type": "markdown",
      "metadata": {
        "id": "y04wi-zkHT7J",
        "colab_type": "text"
      },
      "source": [
        "#Day 3 Assignment Batch 7\n",
        "\n",
        "\n",
        "---\n",
        "\n",
        "\n",
        "\n",
        "\n",
        "\n"
      ]
    },
    {
      "cell_type": "code",
      "metadata": {
        "id": "jl42dYF1GefC",
        "colab_type": "code",
        "colab": {
          "base_uri": "https://localhost:8080/",
          "height": 50
        },
        "outputId": "a39ef669-70a3-48cf-931e-6c67eaa540bc"
      },
      "source": [
        "print(\"Assignment Submitted by Huzefa Nalkheda wala\")\n",
        "print(\"huzaifanalkheda@gmail.com\")"
      ],
      "execution_count": 12,
      "outputs": [
        {
          "output_type": "stream",
          "text": [
            "Assignment Submitted by Huzefa Nalkheda wala\n",
            "huzaifanalkheda@gmail.com\n"
          ],
          "name": "stdout"
        }
      ]
    },
    {
      "cell_type": "markdown",
      "metadata": {
        "id": "-a9Ma4qTLwNb",
        "colab_type": "text"
      },
      "source": [
        "###Q1.  You all are pilots, you have to land a plane, the altitude required for landing a plane is 1000ft, if it is less than that tell pilot to land the a plane, or it is more than that but less than 5000ft ask the pilot to “come down to 1OOOft”, else if it is more than 5000ft askt the pilot to “go around and try later’\n"
      ]
    },
    {
      "cell_type": "code",
      "metadata": {
        "id": "HZNJ214pHoZy",
        "colab_type": "code",
        "colab": {
          "base_uri": "https://localhost:8080/",
          "height": 84
        },
        "outputId": "11ea8858-cdbe-4707-db6b-66251662e555"
      },
      "source": [
        "var = input(\"Enter Plane Altitude: \") \n",
        "print(\"Your Entered Altitude Is:\" , var , \"Feet\")\n",
        "h = float(var)\n",
        "if h > 0:\n",
        "  if h > 1000:\n",
        "      print(\"It's more than 1000\")\n",
        "  else:\n",
        "      print(\"It's less than 1000\")\n",
        " \n",
        "  if h <= 1000:\n",
        "      print(\"Safe To Land\")\n",
        " \n",
        "  elif h < 5000:\n",
        "      print(\"Get down to 1000\")\n",
        "  else:\n",
        "      print(\"Flip it around\")\n",
        "else:\n",
        "    print(\"Altitude must be an Integer Positive\")"
      ],
      "execution_count": null,
      "outputs": [
        {
          "output_type": "stream",
          "text": [
            "Enter Plane Altitude: 800\n",
            "Your Entered Altitude Is: 800 Feet\n",
            "It's less than 1000\n",
            "Safe To Land\n"
          ],
          "name": "stdout"
        }
      ]
    },
    {
      "cell_type": "markdown",
      "metadata": {
        "id": "Yg34zV_KHiHL",
        "colab_type": "text"
      },
      "source": [
        "\n",
        "\n",
        "---\n",
        "\n"
      ]
    },
    {
      "cell_type": "markdown",
      "metadata": {
        "id": "gKMn3qjCQHun",
        "colab_type": "text"
      },
      "source": [
        "###Q2. Using for loop please print all the prime numbers between 1 - 200 using FOR LOOP AND RANGE function "
      ]
    },
    {
      "cell_type": "code",
      "metadata": {
        "id": "YprTIJIgOlLr",
        "colab_type": "code",
        "colab": {
          "base_uri": "https://localhost:8080/",
          "height": 840
        },
        "outputId": "6d285df9-d76f-4ebb-c4b3-c1c3362be227"
      },
      "source": [
        "\n",
        "l = input(\"Enter Lower Value: \") \n",
        "u = input(\"Enter Upper Value: \") \n",
        "\n",
        "l=int(l)\n",
        "u=int(u)\n",
        "if l>u:\n",
        "  print(\"Lower value must not be greater than Upper value\")\n",
        "  print(\"Enter correct values\")\n",
        "else:\n",
        "  print(\"Prime numbers between\", l, \"&\", u, \"are:\")\n",
        "\n",
        "  for h in range(l, u + 1):\n",
        "   \n",
        "       if h > 1:\n",
        "          for i in range(2, h):\n",
        "              if (h % i) == 0:\n",
        "                break\n",
        "          else:\n",
        "               print(h)"
      ],
      "execution_count": 11,
      "outputs": [
        {
          "output_type": "stream",
          "text": [
            "Enter Lower Value: 1\n",
            "Enter Upper Value: 200\n",
            "Prime numbers between 1 & 200 are:\n",
            "2\n",
            "3\n",
            "5\n",
            "7\n",
            "11\n",
            "13\n",
            "17\n",
            "19\n",
            "23\n",
            "29\n",
            "31\n",
            "37\n",
            "41\n",
            "43\n",
            "47\n",
            "53\n",
            "59\n",
            "61\n",
            "67\n",
            "71\n",
            "73\n",
            "79\n",
            "83\n",
            "89\n",
            "97\n",
            "101\n",
            "103\n",
            "107\n",
            "109\n",
            "113\n",
            "127\n",
            "131\n",
            "137\n",
            "139\n",
            "149\n",
            "151\n",
            "157\n",
            "163\n",
            "167\n",
            "173\n",
            "179\n",
            "181\n",
            "191\n",
            "193\n",
            "197\n",
            "199\n"
          ],
          "name": "stdout"
        }
      ]
    }
  ]
}

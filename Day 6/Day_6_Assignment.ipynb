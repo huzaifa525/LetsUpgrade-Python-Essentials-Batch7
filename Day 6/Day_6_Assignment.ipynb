{
  "nbformat": 4,
  "nbformat_minor": 0,
  "metadata": {
    "colab": {
      "name": "Day_6_Assignment.ipynb",
      "provenance": [],
      "authorship_tag": "ABX9TyMM5PANLOL1XvRph8XIu18A",
      "include_colab_link": true
    },
    "kernelspec": {
      "name": "python3",
      "display_name": "Python 3"
    }
  },
  "cells": [
    {
      "cell_type": "markdown",
      "metadata": {
        "id": "view-in-github",
        "colab_type": "text"
      },
      "source": [
        "<a href=\"https://colab.research.google.com/github/huzaifa525/LetsUpgrade-Python-Essentials-Batch7-/blob/master/Day_6_Assignment.ipynb\" target=\"_parent\"><img src=\"https://colab.research.google.com/assets/colab-badge.svg\" alt=\"Open In Colab\"/></a>"
      ]
    },
    {
      "cell_type": "code",
      "metadata": {
        "id": "zLRvMWeEq1Pn",
        "colab_type": "code",
        "colab": {
          "base_uri": "https://localhost:8080/",
          "height": 50
        },
        "outputId": "5c51f15f-81d7-4fe5-dada-d15934cbff89"
      },
      "source": [
        "print(\"Assignment Submitted by Huzefa Nalkheda wala\")\n",
        "print(\"huzaifanalkheda@gmail.com\")"
      ],
      "execution_count": 23,
      "outputs": [
        {
          "output_type": "stream",
          "text": [
            "Assignment Submitted by Huzefa Nalkheda wala\n",
            "huzaifanalkheda@gmail.com\n"
          ],
          "name": "stdout"
        }
      ]
    },
    {
      "cell_type": "markdown",
      "metadata": {
        "id": "mDLoaVxZeZfi",
        "colab_type": "text"
      },
      "source": [
        "####Q1. For this challenge,create a bank account class that has two attributes\n",
        "####*Name\n",
        "####*Balance\n",
        "####And two methods\n",
        "####*deposit\n",
        "####*withdraw\n",
        "####As an added requirement,withdrawals may not exceed the available balance. Instantiate your class,make several deposits and withdrawals,and test to make sure the account cant be overdrawn."
      ]
    },
    {
      "cell_type": "code",
      "metadata": {
        "id": "sHzXDLWldle5",
        "colab_type": "code",
        "colab": {
          "base_uri": "https://localhost:8080/",
          "height": 101
        },
        "outputId": "d23d4f50-a514-4fe5-8439-87f21dfb7cc2"
      },
      "source": [
        "\n",
        "class Account:\n",
        "    \n",
        "    def __init__(s, o, balance):\n",
        "        s.o = o\n",
        "        s.balance = balance\n",
        "    \n",
        "    def __str__(s):\n",
        "        return 'Account owner: {o}\\nAccount balance: ₹{balance}'.format(o=s.o, balance=s.balance)\n",
        "        \n",
        "    def deposit(s, dep_money):\n",
        "        s.balance += dep_money\n",
        "        print('Deposit Accepted, your balance is ₹{balance}'.format(balance=s.balance))\n",
        "    \n",
        "    def withdraw(s, wd_money):\n",
        "        if wd_money > s.balance:\n",
        "            print('Funds Unavailable!')\n",
        "        else:\n",
        "            s.balance -= wd_money\n",
        "            print('Withdrawal Accepted, your balance is ₹{balance}'.format(balance=s.balance))\n",
        "            \n",
        "act = Account('Huzefa Nalkheda Wala',10000)\n",
        "print(act)\n",
        "\n",
        "act.deposit(550)\n",
        "act.withdraw(953)\n",
        "act.withdraw(5253)"
      ],
      "execution_count": 18,
      "outputs": [
        {
          "output_type": "stream",
          "text": [
            "Account owner: Huzefa Nalkheda Wala\n",
            "Account balance: ₹10000\n",
            "Deposit Accepted, your balance is ₹10550\n",
            "Withdrawal Accepted, your balance is ₹9597\n",
            "Withdrawal Accepted, your balance is ₹4344\n"
          ],
          "name": "stdout"
        }
      ]
    },
    {
      "cell_type": "markdown",
      "metadata": {
        "id": "PXyso7Y7hqdE",
        "colab_type": "text"
      },
      "source": [
        "####Q2. For this challenge,create a cone class that has two attributes:\n",
        "####*R=Radius\n",
        "####*H=height\n",
        "####And two methods:\n",
        "####*Volume = Π * r2 = (h/3)\n",
        "####*Surface area : base : Π * r2 , side : Π * r * √(r2 + h2)\n",
        "####Make only one class with functions,as in where required import Math."
      ]
    },
    {
      "cell_type": "code",
      "metadata": {
        "id": "wSazbvJihzpl",
        "colab_type": "code",
        "colab": {
          "base_uri": "https://localhost:8080/",
          "height": 134
        },
        "outputId": "7ae51297-82a6-443d-cb51-92dc5145b602"
      },
      "source": [
        "\n",
        "import math\n",
        "\n",
        "r = float(input('Please Enter the Radius of a Cone: '))\n",
        "h = float(input('Please Enter the Height of a Cone: '))\n",
        "\n",
        "# Calculate Length of Slant\n",
        "l = math.sqrt(r * r + h * h)\n",
        "\n",
        "# Calculate the Surface Area\n",
        "SA = math.pi * r * (r + l)\n",
        "\n",
        "# Calculate the Volume\n",
        "Volume = (1.0/3) * math.pi * r * r * h\n",
        "\n",
        "# Calculate the Lateral Surface Area\n",
        "LSA = math.pi * r  * l\n",
        "\n",
        "print(\"\\n Length of  Slant  = %.2f\" %l)\n",
        "print(\"  Surface Area  = %.2f \" %SA)\n",
        "print(\"  Volume  = %.2f\" %Volume);\n",
        "print(\" Lateral Surface Area  = %.2f \" %LSA)"
      ],
      "execution_count": 22,
      "outputs": [
        {
          "output_type": "stream",
          "text": [
            "Please Enter the Radius of a Cone: 5\n",
            "Please Enter the Height of a Cone: 6\n",
            "\n",
            " Length of  Slant  = 7.81\n",
            "  Surface Area  = 201.22 \n",
            "  Volume  = 157.08\n",
            " Lateral Surface Area  = 122.68 \n"
          ],
          "name": "stdout"
        }
      ]
    }
  ]
}

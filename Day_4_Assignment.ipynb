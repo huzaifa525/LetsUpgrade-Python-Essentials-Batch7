{
  "nbformat": 4,
  "nbformat_minor": 0,
  "metadata": {
    "colab": {
      "name": "Day_4_Assignment.ipynb",
      "provenance": [],
      "authorship_tag": "ABX9TyMCAaQS0vINpeHoGP91im0i"
    },
    "kernelspec": {
      "name": "python3",
      "display_name": "Python 3"
    }
  },
  "cells": [
    {
      "cell_type": "markdown",
      "metadata": {
        "id": "xctBj-lXywGN",
        "colab_type": "text"
      },
      "source": [
        "#Day 4 Assignment"
      ]
    },
    {
      "cell_type": "code",
      "metadata": {
        "id": "nJqHcQRry4yv",
        "colab_type": "code",
        "colab": {
          "base_uri": "https://localhost:8080/",
          "height": 50
        },
        "outputId": "af6338f8-151f-4125-804a-ae5321bd6ac1"
      },
      "source": [
        "print(\"Assignment Submitted by Huzefa Nalkheda wala\")\n",
        "print(\"huzaifanalkheda@gmail.com\")"
      ],
      "execution_count": null,
      "outputs": [
        {
          "output_type": "stream",
          "text": [
            "Assignment Submitted by Huzefa Nalkheda wala\n",
            "huzaifanalkheda@gmail.com\n"
          ],
          "name": "stdout"
        }
      ]
    },
    {
      "cell_type": "markdown",
      "metadata": {
        "id": "16bpIueTxvht",
        "colab_type": "text"
      },
      "source": [
        "###Q 1. Print the first ArmStrong number in the range of 1042000 to 702648265 and exit the loop as soon as you encounter the first armstrong number. Use while loop"
      ]
    },
    {
      "cell_type": "code",
      "metadata": {
        "id": "PqYy_q4WC7gY",
        "colab_type": "code",
        "colab": {
          "base_uri": "https://localhost:8080/",
          "height": 34
        },
        "outputId": "c98576a1-785b-4a20-f5bc-1eb36c3023f8"
      },
      "source": [
        "l=1042000\n",
        "u = 702648265\n",
        "for n in range (l,u + 1):\n",
        "    o= len (str(n))\n",
        "    sum = 0\n",
        "    temp = n\n",
        "    while temp > 0:\n",
        "        x = temp % 10\n",
        "        sum += x ** o\n",
        "        temp //= 10\n",
        "\n",
        "    if n == sum:\n",
        "        print(n)\n",
        "        break"
      ],
      "execution_count": 7,
      "outputs": [
        {
          "output_type": "stream",
          "text": [
            "1741725\n"
          ],
          "name": "stdout"
        }
      ]
    }
  ]
}
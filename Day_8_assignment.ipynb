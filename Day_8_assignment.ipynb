{
  "nbformat": 4,
  "nbformat_minor": 0,
  "metadata": {
    "colab": {
      "name": "Day_8_assignment.ipynb",
      "provenance": [],
      "collapsed_sections": [],
      "authorship_tag": "ABX9TyNCBCbKhKlyTJ++SV4UWe/3",
      "include_colab_link": true
    },
    "kernelspec": {
      "name": "python3",
      "display_name": "Python 3"
    }
  },
  "cells": [
    {
      "cell_type": "markdown",
      "metadata": {
        "id": "view-in-github",
        "colab_type": "text"
      },
      "source": [
        "<a href=\"https://colab.research.google.com/github/huzaifa525/LetsUpgrade-Python-Essentials-Batch7-/blob/master/Day_8_assignment.ipynb\" target=\"_parent\"><img src=\"https://colab.research.google.com/assets/colab-badge.svg\" alt=\"Open In Colab\"/></a>"
      ]
    },
    {
      "cell_type": "code",
      "metadata": {
        "id": "1vxMCmH4D339",
        "colab_type": "code",
        "colab": {
          "base_uri": "https://localhost:8080/",
          "height": 50
        },
        "outputId": "2113d101-61cc-444a-880d-ef2c441db194"
      },
      "source": [
        "print(\"Assignment Submitted by Huzefa Nalkheda wala\")\n",
        "print(\"huzaifanalkheda@gmail.com\")"
      ],
      "execution_count": 4,
      "outputs": [
        {
          "output_type": "stream",
          "text": [
            "Assignment Submitted by Huzefa Nalkheda wala\n",
            "huzaifanalkheda@gmail.com\n"
          ],
          "name": "stdout"
        }
      ]
    },
    {
      "cell_type": "markdown",
      "metadata": {
        "id": "CeN89grzA2Yr",
        "colab_type": "text"
      },
      "source": [
        "###Q1. Write a decorator function for your taking input for you any kind of function you want to build,\n",
        "###For ehample - You make a fibonacci series function,in which your input range is been defined by the decorator program input."
      ]
    },
    {
      "cell_type": "code",
      "metadata": {
        "id": "QyZpSXfYrqE5",
        "colab_type": "code",
        "colab": {}
      },
      "source": [
        "def decorator_func(addition):\n",
        "    def main():\n",
        "        print(\"Please Enter numbers\")\n",
        "        print(\"Enter 1st value : \")\n",
        "        h = int(input())\n",
        "        print(\"Enter 2nd Value : \")\n",
        "        n = int(input())\n",
        "        return addition(h,n)\n",
        "    return main\n",
        "@decorator_func\n",
        "def addition (h,n):\n",
        "    print(\"The summation : \" , (h+n))\n",
        "   "
      ],
      "execution_count": 12,
      "outputs": []
    },
    {
      "cell_type": "code",
      "metadata": {
        "id": "tF_BytsHAwMQ",
        "colab_type": "code",
        "colab": {
          "base_uri": "https://localhost:8080/",
          "height": 118
        },
        "outputId": "b2400dc6-e3ee-40ca-96c2-bd6edccc2026"
      },
      "source": [
        "addition()"
      ],
      "execution_count": 13,
      "outputs": [
        {
          "output_type": "stream",
          "text": [
            "Please Enter numbers\n",
            "Enter 1st value : \n",
            "4000\n",
            "Enter 2nd Value : \n",
            "2000000\n",
            "The summation :  2004000\n"
          ],
          "name": "stdout"
        }
      ]
    },
    {
      "cell_type": "markdown",
      "metadata": {
        "id": "ehZYQxBoBB-R",
        "colab_type": "text"
      },
      "source": [
        "\n",
        "\n",
        "---\n",
        "\n"
      ]
    },
    {
      "cell_type": "markdown",
      "metadata": {
        "id": "3-IYqfEQBDYO",
        "colab_type": "text"
      },
      "source": [
        "###Q2. For this challenge you need to develop a Python program to open a file in read only mode and try writing something to it and handle the subsequent errors using Exception Handling."
      ]
    },
    {
      "cell_type": "code",
      "metadata": {
        "id": "R_NG-TjXBC0m",
        "colab_type": "code",
        "colab": {
          "base_uri": "https://localhost:8080/",
          "height": 34
        },
        "outputId": "8918936b-f24a-4463-c51b-fff6e8a19975"
      },
      "source": [
        "%%writefile Example.txt\n",
        "\n",
        "I am Huzefa Nalkheda wala. I  am LetsUpgrader.   "
      ],
      "execution_count": 1,
      "outputs": [
        {
          "output_type": "stream",
          "text": [
            "Writing Example.txt\n"
          ],
          "name": "stdout"
        }
      ]
    },
    {
      "cell_type": "code",
      "metadata": {
        "id": "5VL1PLwLC5Jc",
        "colab_type": "code",
        "colab": {
          "base_uri": "https://localhost:8080/",
          "height": 84
        },
        "outputId": "02a4a88b-dc17-4154-8b89-6e03d5bcd706"
      },
      "source": [
        "try:\n",
        "    \n",
        "    file = open(\"Example.txt\",\"r\")\n",
        "    \n",
        "    file.write(\"\\nI am living in India.\")\n",
        "    \n",
        "    print(\"\\nWrite operation has been successfully conducted in read-only mode.\")\n",
        "    \n",
        "except Exception as w:\n",
        "    \n",
        "    print(\"\\nError occured\")\n",
        "    \n",
        "    print(\"\\nError message  :\",w)"
      ],
      "execution_count": 3,
      "outputs": [
        {
          "output_type": "stream",
          "text": [
            "\n",
            "Error occured\n",
            "\n",
            "Error message  : not writable\n"
          ],
          "name": "stdout"
        }
      ]
    }
  ]
}